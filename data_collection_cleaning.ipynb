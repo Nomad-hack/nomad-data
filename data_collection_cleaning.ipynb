{
 "cells": [
  {
   "cell_type": "markdown",
   "id": "toxic-violin",
   "metadata": {},
   "source": [
    "# Data Collection and Cleaning"
   ]
  },
  {
   "cell_type": "markdown",
   "id": "indoor-marble",
   "metadata": {},
   "source": [
    "### Jewelry Dataset"
   ]
  },
  {
   "cell_type": "markdown",
   "id": "coordinated-result",
   "metadata": {},
   "source": [
    "https://www.kaggle.com/mkechinov/ecommerce-purchase-history-from-jewelry-store"
   ]
  },
  {
   "cell_type": "code",
   "execution_count": 1,
   "id": "extended-cradle",
   "metadata": {},
   "outputs": [],
   "source": [
    "import pandas as pd\n",
    "import numpy as np\n",
    "import seaborn as sns\n",
    "import matplotlib.pyplot as plt\n",
    "from sklearn.preprocessing import LabelEncoder"
   ]
  },
  {
   "cell_type": "code",
   "execution_count": 2,
   "id": "moving-bandwidth",
   "metadata": {},
   "outputs": [],
   "source": [
    "jewelry = pd.read_csv('./data/jewelry/jewelry.csv')"
   ]
  },
  {
   "cell_type": "code",
   "execution_count": 3,
   "id": "freelance-freedom",
   "metadata": {
    "tags": []
   },
   "outputs": [],
   "source": [
    "#take a sample of the total dataset with a selection of features\n",
    "jewelry_subset = jewelry.sample(n=10_000, replace=False)\n",
    "jewelry_subset.drop(columns=['product_id', 'quantity', 'category_id', 'gem', 'order_id', 'category_code'], inplace=True)\n",
    "jewelry_subset['event_time'] = pd.to_datetime(jewelry_subset['event_time'])\n",
    "jewelry_subset['weekday'] = jewelry_subset['event_time'].dt.day_name()\n",
    "\n",
    "jewelry_subset.rename(columns={'gender': 'lesson_type', 'color': 'threecat', 'brand': 'instructor_id', 'metal': 'twocat'}, inplace=True)\n",
    "\n",
    "# jewelry_subset['year'] = jewelry_subset['event_time'].dt.year\n",
    "# jewelry_subset['month'] = jewelry_subset['event_time'].dt.month\n",
    "# jewelry_subset['day'] = jewelry_subset['event_time'].dt.day\n",
    "# jewelry_subset['hour'] = jewelry_subset['event_time'].dt.hour\n",
    "# jewelry_subset['minute'] = jewelry_subset['event_time'].dt.minute"
   ]
  },
  {
   "cell_type": "code",
   "execution_count": 4,
   "id": "apparent-catch",
   "metadata": {},
   "outputs": [],
   "source": [
    "#create instructor_id from brand data\n",
    "label_encoder = LabelEncoder()\n",
    "jewelry_subset['instructor_id'] = jewelry_subset['instructor_id'].astype(str)\n",
    "instructor = label_encoder.fit(jewelry_subset['instructor_id']).transform(jewelry_subset['instructor_id'])\n",
    "jewelry_subset['instructor_id'] = instructor\n",
    "\n",
    "jewelry_subset.instructor_id.replace(20, 2, inplace=True)\n",
    "jewelry_subset.instructor_id.replace(21, 3, inplace=True)\n",
    "jewelry_subset.instructor_id.replace(4, 4, inplace=True)\n",
    "jewelry_subset.instructor_id.replace(18, 4, inplace=True)\n",
    "jewelry_subset.instructor_id.replace(13, 4, inplace=True)\n",
    "jewelry_subset.instructor_id.replace(2, 4, inplace=True)\n",
    "jewelry_subset.instructor_id.replace(10, 4, inplace=True)\n",
    "jewelry_subset.instructor_id.replace(9, 4, inplace=True)\n",
    "jewelry_subset.instructor_id.replace(17, 4, inplace=True)\n",
    "jewelry_subset.instructor_id.replace(15, 4, inplace=True)\n",
    "jewelry_subset.instructor_id.replace(3, 4, inplace=True)\n",
    "jewelry_subset.instructor_id.replace(7, 4, inplace=True)\n",
    "jewelry_subset.instructor_id.replace(19, 4, inplace=True)\n",
    "jewelry_subset.instructor_id.replace(12, 4, inplace=True)\n",
    "jewelry_subset.instructor_id.replace(5, 4, inplace=True)\n",
    "jewelry_subset.instructor_id.replace(6, 4, inplace=True)\n",
    "jewelry_subset.instructor_id.replace(14, 4, inplace=True)\n",
    "jewelry_subset.instructor_id.replace(16, 4, inplace=True)\n",
    "jewelry_subset.instructor_id.replace(8, 4, inplace=True)\n",
    "jewelry_subset.instructor_id.replace(11, 4, inplace=True)\n",
    "jewelry_subset.instructor_id.replace(22, 2, inplace=True)\n",
    "jewelry_subset.instructor_id.replace(24, 3, inplace=True)\n",
    "jewelry_subset.instructor_id.replace(23, 3, inplace=True)\n",
    "jewelry_subset.instructor_id.replace(4, 2, inplace=True)"
   ]
  },
  {
   "cell_type": "code",
   "execution_count": 5,
   "id": "early-oxide",
   "metadata": {},
   "outputs": [],
   "source": [
    "#replace gender with lesson_type\n",
    "jewelry_subset.lesson_type.replace('f', 0, inplace=True)\n",
    "jewelry_subset.lesson_type.replace('m', 1, inplace=True)\n",
    "jewelry_subset.lesson_type.fillna(1, inplace=True)"
   ]
  },
  {
   "cell_type": "code",
   "execution_count": 6,
   "id": "exposed-quality",
   "metadata": {},
   "outputs": [],
   "source": [
    "#replace color with duration (i.e. >30m, 1h, 1.5h, 2h+)\n",
    "jewelry_subset.threecat.replace('red', 0, inplace=True)\n",
    "jewelry_subset.threecat.replace('white', 1, inplace=True)\n",
    "jewelry_subset.threecat.replace('yellow', 2, inplace=True)\n",
    "jewelry_subset.threecat.replace('unknown-color', 3, inplace=True)\n",
    "jewelry_subset.threecat.fillna(3, inplace=True)"
   ]
  },
  {
   "cell_type": "code",
   "execution_count": 7,
   "id": "superior-montgomery",
   "metadata": {},
   "outputs": [],
   "source": [
    "#replace metal with 2-category variable\n",
    "jewelry_subset.twocat.replace('gold', 0, inplace=True)\n",
    "jewelry_subset.twocat.replace('silver', 1, inplace=True)\n",
    "jewelry_subset.twocat.fillna(1, inplace=True)"
   ]
  },
  {
   "cell_type": "code",
   "execution_count": 8,
   "id": "noticed-nerve",
   "metadata": {},
   "outputs": [],
   "source": [
    "# create feature for duration that is based on price / total amount\n",
    "jewelry_subset['price_bins'] = pd.cut(x=jewelry_subset.price, bins=[0, 50, 100, 500, 1000, 35000])\n",
    "jewelry_subset['price_bins'] = jewelry_subset['price_bins'].astype(str)\n",
    "\n",
    "jewelry_subset.price_bins.replace('(100.0, 500.0]', 2, inplace=True)\n",
    "jewelry_subset.price_bins.replace('(50.0, 100.0]', 1, inplace=True)\n",
    "jewelry_subset.price_bins.replace('(500.0, 1000.0]', 3, inplace=True)\n",
    "jewelry_subset.price_bins.replace('(0.0, 50.0]', 0, inplace=True)\n",
    "jewelry_subset.price_bins.replace('(1000.0, 35000.0]', 4, inplace=True)\n",
    "jewelry_subset.price_bins.replace('nan', 4, inplace=True)\n",
    "jewelry_subset.price_bins.fillna(4, inplace=True)\n",
    "jewelry_subset.rename(columns={'price_bins': 'duration'}, inplace=True)"
   ]
  },
  {
   "cell_type": "code",
   "execution_count": 9,
   "id": "decreased-laptop",
   "metadata": {},
   "outputs": [],
   "source": [
    "#encode user_id\n",
    "label_encoder = LabelEncoder()\n",
    "jewelry_subset['user_id'] = jewelry_subset['user_id'].astype(str)\n",
    "user = label_encoder.fit(jewelry_subset['user_id']).transform(jewelry_subset['user_id'])\n",
    "jewelry_subset['user_id'] = user"
   ]
  },
  {
   "cell_type": "code",
   "execution_count": 10,
   "id": "female-collar",
   "metadata": {},
   "outputs": [],
   "source": [
    "# set event_time as date_time\n",
    "jewelry_subset['event_time'] = pd.to_datetime(jewelry_subset['event_time'])"
   ]
  },
  {
   "cell_type": "code",
   "execution_count": 11,
   "id": "increased-romania",
   "metadata": {},
   "outputs": [],
   "source": [
    "# replace 0 with 1 in price\n",
    "jewelry_subset.price.replace(0, 1, inplace=True)"
   ]
  },
  {
   "cell_type": "markdown",
   "id": "bronze-rehabilitation",
   "metadata": {},
   "source": [
    "### Create Final dataframe for analysis dashboard"
   ]
  },
  {
   "cell_type": "code",
   "execution_count": 12,
   "id": "explicit-seventh",
   "metadata": {},
   "outputs": [],
   "source": [
    "jewelry_encoded = jewelry_subset[['event_time', 'user_id', 'instructor_id', \n",
    "                                  'duration', 'price', 'lesson_type', 'twocat', \n",
    "                                  'threecat', 'weekday']]"
   ]
  },
  {
   "cell_type": "code",
   "execution_count": 13,
   "id": "stable-front",
   "metadata": {},
   "outputs": [
    {
     "data": {
      "text/plain": [
       "0    4589\n",
       "1    4282\n",
       "2    1018\n",
       "3     111\n",
       "Name: instructor_id, dtype: int64"
      ]
     },
     "execution_count": 13,
     "metadata": {},
     "output_type": "execute_result"
    }
   ],
   "source": [
    "jewelry_encoded.instructor_id.value_counts()"
   ]
  },
  {
   "cell_type": "code",
   "execution_count": 14,
   "id": "presidential-underground",
   "metadata": {},
   "outputs": [],
   "source": [
    "# jewelry_encoded['event_time'] = pd.to_datetime(jewelry_encoded['event_time'])\n",
    "# jewelry_encoded.set_index(\"event_time\", inplace=True)\n",
    "# jewelry_encoded.sort_index(inplace=True)"
   ]
  },
  {
   "cell_type": "code",
   "execution_count": 15,
   "id": "minor-pioneer",
   "metadata": {},
   "outputs": [
    {
     "data": {
      "text/html": [
       "<div>\n",
       "<style scoped>\n",
       "    .dataframe tbody tr th:only-of-type {\n",
       "        vertical-align: middle;\n",
       "    }\n",
       "\n",
       "    .dataframe tbody tr th {\n",
       "        vertical-align: top;\n",
       "    }\n",
       "\n",
       "    .dataframe thead th {\n",
       "        text-align: right;\n",
       "    }\n",
       "</style>\n",
       "<table border=\"1\" class=\"dataframe\">\n",
       "  <thead>\n",
       "    <tr style=\"text-align: right;\">\n",
       "      <th></th>\n",
       "      <th>event_time</th>\n",
       "      <th>user_id</th>\n",
       "      <th>instructor_id</th>\n",
       "      <th>duration</th>\n",
       "      <th>price</th>\n",
       "      <th>lesson_type</th>\n",
       "      <th>twocat</th>\n",
       "      <th>threecat</th>\n",
       "      <th>weekday</th>\n",
       "    </tr>\n",
       "  </thead>\n",
       "  <tbody>\n",
       "    <tr>\n",
       "      <th>110218</th>\n",
       "      <td>2020-11-08 06:28:35+00:00</td>\n",
       "      <td>6990</td>\n",
       "      <td>2</td>\n",
       "      <td>3</td>\n",
       "      <td>796.21</td>\n",
       "      <td>0.0</td>\n",
       "      <td>0.0</td>\n",
       "      <td>0.0</td>\n",
       "      <td>Sunday</td>\n",
       "    </tr>\n",
       "    <tr>\n",
       "      <th>4180</th>\n",
       "      <td>2019-01-30 02:47:43+00:00</td>\n",
       "      <td>1760</td>\n",
       "      <td>1</td>\n",
       "      <td>0</td>\n",
       "      <td>37.63</td>\n",
       "      <td>1.0</td>\n",
       "      <td>0.0</td>\n",
       "      <td>0.0</td>\n",
       "      <td>Wednesday</td>\n",
       "    </tr>\n",
       "  </tbody>\n",
       "</table>\n",
       "</div>"
      ],
      "text/plain": [
       "                      event_time  user_id  instructor_id  duration   price  \\\n",
       "110218 2020-11-08 06:28:35+00:00     6990              2         3  796.21   \n",
       "4180   2019-01-30 02:47:43+00:00     1760              1         0   37.63   \n",
       "\n",
       "        lesson_type  twocat  threecat    weekday  \n",
       "110218          0.0     0.0       0.0     Sunday  \n",
       "4180            1.0     0.0       0.0  Wednesday  "
      ]
     },
     "execution_count": 15,
     "metadata": {},
     "output_type": "execute_result"
    }
   ],
   "source": [
    "jewelry_encoded.head(2)"
   ]
  },
  {
   "cell_type": "code",
   "execution_count": 16,
   "id": "inappropriate-robinson",
   "metadata": {},
   "outputs": [],
   "source": [
    "jewelry_encoded.to_csv('./data/jewelry/jewelry_encoded.csv')"
   ]
  },
  {
   "cell_type": "code",
   "execution_count": 17,
   "id": "dental-invite",
   "metadata": {},
   "outputs": [],
   "source": [
    "jewelry_encoded.to_json('./data/jewelry/jewelry_json.json')"
   ]
  }
 ],
 "metadata": {
  "kernelspec": {
   "display_name": "Python 3",
   "language": "python",
   "name": "python3"
  },
  "language_info": {
   "codemirror_mode": {
    "name": "ipython",
    "version": 3
   },
   "file_extension": ".py",
   "mimetype": "text/x-python",
   "name": "python",
   "nbconvert_exporter": "python",
   "pygments_lexer": "ipython3",
   "version": "3.8.8"
  }
 },
 "nbformat": 4,
 "nbformat_minor": 5
}
